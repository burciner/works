{
 "cells": [
  {
   "cell_type": "markdown",
   "id": "e82c9847",
   "metadata": {},
   "source": [
    "# Introduction"
   ]
  },
  {
   "cell_type": "markdown",
   "id": "380c92be",
   "metadata": {},
   "source": [
    "This is my *first* Jupyter notebook."
   ]
  },
  {
   "cell_type": "code",
   "execution_count": 15,
   "id": "e8882b9b",
   "metadata": {},
   "outputs": [],
   "source": [
    "x = 5\n",
    "y = 6\n"
   ]
  },
  {
   "cell_type": "code",
   "execution_count": 16,
   "id": "d5d338d1",
   "metadata": {},
   "outputs": [
    {
     "name": "stdout",
     "output_type": "stream",
     "text": [
      "11\n"
     ]
    }
   ],
   "source": [
    "z = x+y\n",
    "print(z)"
   ]
  }
 ],
 "metadata": {
  "kernelspec": {
   "display_name": "Python 3 (ipykernel)",
   "language": "python",
   "name": "python3"
  },
  "language_info": {
   "codemirror_mode": {
    "name": "ipython",
    "version": 3
   },
   "file_extension": ".py",
   "mimetype": "text/x-python",
   "name": "python",
   "nbconvert_exporter": "python",
   "pygments_lexer": "ipython3",
   "version": "3.10.9"
  }
 },
 "nbformat": 4,
 "nbformat_minor": 5
}
